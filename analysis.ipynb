{
 "cells": [
  {
   "cell_type": "markdown",
   "id": "ae316246",
   "metadata": {},
   "source": [
    "# Time series challenge"
   ]
  },
  {
   "cell_type": "markdown",
   "id": "12a7564b",
   "metadata": {},
   "source": [
    "## Theorethical questions\n",
    "\n",
    "### 1. Name two advantages and two disadvantages of using LSTM over ARIMA for time series forecasting\n",
    "\n",
    "**Advantages**:\n",
    "\n",
    "- multivariate approach; take advantage of non-linear relations. \n",
    "\n",
    "- better capture of long term information. \n",
    "\n",
    "**Disadvantages**: \n",
    "\n",
    "- Interpretability; LSTM, as most deep learning approaches, is not suitable for explainability. \n",
    "- Computational power; ARIMA is much cheaper to train. \n",
    "\n",
    "### 2. Why is standard k-fold cross-validation not suitable for time series data? What technique would you recommend instead?\n",
    "\n",
    "Time series is data of historic events, whose records contain temporal dependency between consecutive samples. Therefore, it must be presented, processed and analysed in its chronological progression. We have to consider the temporal precedence to split the data.\n",
    "\n",
    "The second reason is that, if you apply standard k-fol cross-validation, you could end up training on future data and evaluating on past data. \n",
    "\n",
    "To divide the dataset, a common approach is to divide considering the chronological order, for example, first 70% for training, next 20% for testing and the last 10% for validation. But not mixing the splits like in traditional machine learning. \n",
    "\n",
    "Another option is to use a Time Series Split, which creates samples equally spaced where each test set covers the same time duration, while the train set size accumulates data from previous splits. For example, in the k-th split, it returns the first k-folds as the train set and the (k+1)-th fold as the test size. \n"
   ]
  },
  {
   "cell_type": "markdown",
   "id": "b14bde28",
   "metadata": {},
   "source": [
    "## Case study\n",
    "\n",
    "Based on the Ventas_.csv file, the task is forecast monthly demand."
   ]
  },
  {
   "cell_type": "markdown",
   "id": "1a3908e1",
   "metadata": {},
   "source": [
    "### Cleaning and preparing the dataset"
   ]
  },
  {
   "cell_type": "code",
   "execution_count": null,
   "id": "3bb30224",
   "metadata": {},
   "outputs": [],
   "source": [
    "import pandas as pd\n",
    "import numpy as np \n",
    "import matplotlib.pyplot as plt \n",
    "import seaborn as sns "
   ]
  },
  {
   "cell_type": "code",
   "execution_count": null,
   "id": "925cdb8c",
   "metadata": {},
   "outputs": [],
   "source": [
    "df = pd.read_csv('Ventas_.csv')\n",
    "df"
   ]
  },
  {
   "cell_type": "markdown",
   "id": "6dc4d936",
   "metadata": {},
   "source": [
    "The dataset has three variables: \n",
    "- Fecha, which is object type and should be casted into a date type column or a datetime index. \n",
    "- Estado, another string which could be casted into a categorical (or 'factor') datatype. \n",
    "- Ventas, a numeric variable which is loaded as a floating variable. "
   ]
  },
  {
   "cell_type": "code",
   "execution_count": null,
   "id": "11c5ce53",
   "metadata": {},
   "outputs": [],
   "source": [
    "df.info()"
   ]
  },
  {
   "cell_type": "code",
   "execution_count": null,
   "id": "7bfea53d",
   "metadata": {},
   "outputs": [],
   "source": [
    "# Casting variables: \n",
    "df['Fecha'] = pd.to_datetime(df['Fecha'])\n",
    "df['Estado'] = df['Estado'].astype('category')\n",
    "df.dtypes # Now we have the 'Fecha' and 'Estado' variables with the proper codification. "
   ]
  },
  {
   "cell_type": "markdown",
   "id": "d7e6a6d2",
   "metadata": {},
   "source": [
    "There's no missing data:"
   ]
  },
  {
   "cell_type": "code",
   "execution_count": null,
   "id": "eab8d5f1",
   "metadata": {},
   "outputs": [],
   "source": [
    "df.isnull().sum()"
   ]
  },
  {
   "cell_type": "markdown",
   "id": "7bb788d8",
   "metadata": {},
   "source": [
    "### Exploratory data analysis\n"
   ]
  },
  {
   "cell_type": "markdown",
   "id": "7cb7499e",
   "metadata": {},
   "source": [
    "#### Fechas"
   ]
  },
  {
   "cell_type": "code",
   "execution_count": null,
   "id": "efa5d73d",
   "metadata": {},
   "outputs": [],
   "source": [
    "print(f\"Registro más antiguo: {df['Fecha'].min()}\")\n",
    "      \n",
    "print(f\"Registro más reciente:{df['Fecha'].max()}\")"
   ]
  },
  {
   "cell_type": "code",
   "execution_count": null,
   "id": "5e9bf64a",
   "metadata": {},
   "outputs": [],
   "source": [
    "df['año'] = df['Fecha'].dt.year \n",
    "df['mes'] = df['Fecha'].dt.month\n",
    "\n",
    "year_summary = df.groupby('año')['Ventas'].describe()\n",
    "year_summary['total_ventas'] =  df.groupby('año')['Ventas'].agg('sum')\n",
    "print(\"Total sales per year\")\n",
    "year_summary['total_ventas']"
   ]
  },
  {
   "cell_type": "code",
   "execution_count": null,
   "id": "4186a52b",
   "metadata": {},
   "outputs": [],
   "source": [
    "sns.barplot(year_summary, x = 'año', y = 'total_ventas', hue='año', order=['2023', '2024', '2025'], legend=False) \n",
    "plt.ticklabel_format(style='plain', axis='y')"
   ]
  },
  {
   "cell_type": "code",
   "execution_count": null,
   "id": "ba021d5e",
   "metadata": {},
   "outputs": [],
   "source": [
    "import matplotlib.pyplot as plt\n",
    "import seaborn as sns\n",
    "\n",
    "# Filtrar por año\n",
    "year_2023 = df[df['año'] == 2023]\n",
    "ventas_2023 = year_2023.groupby('mes')['Ventas'].sum().reset_index()\n",
    "\n",
    "year_2024 = df[df['año'] == 2024]\n",
    "ventas_2024 = year_2024.groupby('mes')['Ventas'].sum().reset_index()\n",
    "\n",
    "year_2025 = df[df['año'] == 2025]\n",
    "ventas_2025 = year_2025.groupby('mes')['Ventas'].sum().reset_index()\n",
    "\n",
    "# Crear figura con 3 subplots en una columna\n",
    "fig, axes = plt.subplots(3, 1, figsize=(12,12), sharey=True)\n",
    "\n",
    "# 2023\n",
    "sns.barplot(data=ventas_2023, x='mes', y='Ventas', estimator='sum', errorbar=None, ax=axes[0], hue='mes', legend= False, palette=\"Greens_d\")\n",
    "axes[0].set_title(\"Ventas mensuales en 2023\", fontsize=14)\n",
    "axes[0].set_xlabel(\"Mes\")\n",
    "axes[0].set_ylabel(\"Total de ventas\")\n",
    "\n",
    "# 2024\n",
    "sns.barplot(data=ventas_2024, x='mes', y='Ventas', estimator='sum', errorbar=None, ax=axes[1],hue='mes', legend= False, palette=\"Blues_d\")\n",
    "axes[1].set_title(\"Ventas mensuales en 2024\", fontsize=14)\n",
    "axes[1].set_xlabel(\"Mes\")\n",
    "axes[1].set_ylabel(\"Total de ventas\")\n",
    "\n",
    "# 2025\n",
    "sns.barplot(data=ventas_2025, x='mes', y='Ventas', estimator='sum', errorbar=None, ax=axes[2], hue='mes', legend= False, palette=\"Oranges_d\")\n",
    "axes[2].set_title(\"Ventas mensuales en 2025\", fontsize=14)\n",
    "axes[2].set_xlabel(\"Mes\")\n",
    "axes[2].set_ylabel(\"Total de ventas\")\n",
    "\n",
    "# Ajustar espacios\n",
    "plt.tight_layout()\n",
    "plt.show()\n"
   ]
  },
  {
   "cell_type": "markdown",
   "id": "cf5f275c",
   "metadata": {},
   "source": [
    "#### Estado"
   ]
  },
  {
   "cell_type": "code",
   "execution_count": null,
   "id": "bc4ff4ee",
   "metadata": {},
   "outputs": [],
   "source": [
    "print(f\"Number of different states in the dataset: {len(list(df['Estado'].unique()))}\")\n",
    "list(df['Estado'].unique())\n"
   ]
  },
  {
   "cell_type": "code",
   "execution_count": null,
   "id": "9cfd2420",
   "metadata": {},
   "outputs": [],
   "source": [
    "ventas_estado = df.groupby(\"Estado\", observed=True)[\"Ventas\"].sum().reset_index()\n",
    "print('Representativeness of states; ten states with less sales:')\n",
    "ventas_estado.sort_values('Ventas').head(10).round(2)"
   ]
  },
  {
   "cell_type": "code",
   "execution_count": null,
   "id": "debc499a",
   "metadata": {},
   "outputs": [],
   "source": [
    "print('Representativeness of states; ten states with more sales:')\n",
    "ventas_estado.sort_values('Ventas', ascending=False).head(10).round(2)"
   ]
  },
  {
   "cell_type": "code",
   "execution_count": null,
   "id": "1131da06",
   "metadata": {},
   "outputs": [],
   "source": [
    "\n",
    "plt.figure(figsize=(8, 9)) \n",
    "sns.barplot(ventas_estado,\n",
    "             x='Ventas',\n",
    "             y = 'Estado',\n",
    "             order= list(ventas_estado.sort_values('Ventas')['Estado']),\n",
    "             errorbar=None             \n",
    "             )"
   ]
  },
  {
   "cell_type": "markdown",
   "id": "27892d1e",
   "metadata": {},
   "source": [
    "#### Ventas"
   ]
  },
  {
   "cell_type": "code",
   "execution_count": null,
   "id": "0232c931",
   "metadata": {},
   "outputs": [],
   "source": [
    "import matplotlib.pyplot as plt\n",
    "import seaborn as sns\n",
    "\n",
    "plt.figure(figsize=(12,6))\n",
    "sns.lineplot(data=df, x=\"Fecha\", y=\"Ventas\", marker=\"o\")\n",
    "plt.title(\"Temporal series (ungrouped)\", fontsize=14)\n",
    "plt.xlabel(\"Fecha\")\n",
    "plt.ylabel(\"Ventas\")\n",
    "plt.show()\n"
   ]
  },
  {
   "cell_type": "code",
   "execution_count": null,
   "id": "cacb52fd",
   "metadata": {},
   "outputs": [],
   "source": [
    "# Group by month\n",
    "df_monthly = df.groupby(\"Fecha\")[\"Ventas\"].sum().reset_index()\n",
    "\n",
    "# Sort\n",
    "df_monthly = df_monthly.sort_values(\"Fecha\").reset_index(drop=True)\n",
    "\n",
    "df_monthly.head()"
   ]
  },
  {
   "cell_type": "code",
   "execution_count": null,
   "id": "988d07ad",
   "metadata": {},
   "outputs": [],
   "source": [
    "plt.figure(figsize=(12,6))\n",
    "sns.lineplot(data=df_monthly, x=\"Fecha\", y=\"Ventas\", marker=\"o\")\n",
    "plt.title(\"Temporal series (grouped by month)\", fontsize=14)\n",
    "plt.xlabel(\"Fecha\")\n",
    "plt.ylabel(\"Ventas\")\n",
    "plt.show()"
   ]
  },
  {
   "cell_type": "code",
   "execution_count": null,
   "id": "2e4fae88",
   "metadata": {},
   "outputs": [],
   "source": [
    "from statsmodels.graphics.tsaplots import plot_acf\n",
    "\n",
    "plt.figure(figsize=(10,5))\n",
    "plot_acf(df_monthly[\"Ventas\"], lags=25) \n",
    "plt.title(\"Self correlation in sales\", fontsize=14)\n",
    "plt.show() # not strong evidence of seasonality, but maybe a ciclic pattern\n"
   ]
  },
  {
   "cell_type": "markdown",
   "id": "f04bb9b6",
   "metadata": {},
   "source": [
    "### Choosing and validating forecasting models "
   ]
  },
  {
   "cell_type": "markdown",
   "id": "e06a085c",
   "metadata": {},
   "source": [
    "#### Movile average\n",
    "\n",
    "Movile average was applied with two different window sizes."
   ]
  },
  {
   "cell_type": "code",
   "execution_count": null,
   "id": "3a1132dc",
   "metadata": {},
   "outputs": [],
   "source": [
    "moving_average = df_monthly.copy()\n",
    "\n",
    "moving_average[\"MA_3\"] = df_monthly[\"Ventas\"].rolling(window=3).mean()\n",
    "moving_average[\"MA_6\"] = df_monthly[\"Ventas\"].rolling(window=6).mean()\n",
    "\n",
    "# Graficar\n",
    "plt.figure(figsize=(12,6))\n",
    "plt.plot(moving_average[\"Fecha\"], moving_average[\"Ventas\"], label=\"Ventas reales\", marker=\"o\")\n",
    "plt.plot(moving_average[\"Fecha\"], moving_average[\"MA_3\"], label=\"Media móvil 3  meses\", linestyle=\"--\")\n",
    "plt.plot(moving_average[\"Fecha\"], moving_average[\"MA_6\"], label=\"Media móvil 6 meses\", linestyle=\"--\")\n",
    "\n",
    "plt.title(\"Ventas mensuales y medias móviles\", fontsize=14)\n",
    "plt.xlabel(\"Fecha\")\n",
    "plt.ylabel(\"Ventas\")\n",
    "plt.legend()\n",
    "plt.show()"
   ]
  },
  {
   "cell_type": "code",
   "execution_count": null,
   "id": "20932fb6",
   "metadata": {},
   "outputs": [],
   "source": [
    "from sklearn.metrics import mean_absolute_error, mean_squared_error\n",
    "\n",
    "# Evaluation \n",
    "moving_average_eval = moving_average.copy()\n",
    "moving_average_eval.dropna(subset=['MA_3', 'MA_6'], inplace=True) # drop NAs result of the computation of mean with the first registers\n",
    "\n",
    "\n",
    "mae_3 = mean_absolute_error(moving_average_eval['Ventas'], moving_average_eval['MA_3'])\n",
    "mae_6 = mean_absolute_error(moving_average_eval['Ventas'], moving_average_eval['MA_6'])\n",
    "\n",
    "rmse_3 = np.sqrt(mean_squared_error(moving_average_eval['Ventas'], moving_average_eval['MA_3']))\n",
    "                 \n",
    "rmse_6 = np.sqrt(mean_squared_error(moving_average_eval['Ventas'], moving_average_eval['MA_6']))\n",
    "\n",
    "\n",
    "mape_3 = np.mean(np.abs((moving_average_eval['Ventas'] - moving_average_eval['MA_3']) / moving_average_eval['Ventas'])) * 100\n",
    "mape_6 = np.mean(np.abs((moving_average_eval['Ventas'] - moving_average_eval['MA_6']) / moving_average_eval['Ventas'])) * 100\n",
    "\n",
    "print(f\"MAE: 3 months: {mae_3:.2f} ; 6 months: {mae_6:.2f}\")\n",
    "print(f\"RMSE: 3 months: {rmse_3:.2f}; 6 months: {rmse_6:.2f}\")\n",
    "print(f\"MAPE: 3 months: {mape_3:.2f}% ; 6 months: {mape_6:.2f}\")\n",
    "\n",
    "\n"
   ]
  },
  {
   "attachments": {
    "image-2.png": {
     "image/png": "[encoded data removed]"
    }
   },
   "cell_type": "markdown",
   "id": "612a36cc",
   "metadata": {},
   "source": [
    "#### Exponential smoothing\n",
    "\n",
    "\n",
    "![image-2.png](attachment:image-2.png)\n"
   ]
  },
  {
   "cell_type": "code",
   "execution_count": null,
   "id": "98729e76",
   "metadata": {},
   "outputs": [],
   "source": [
    "from statsmodels.tsa.api import  SimpleExpSmoothing\n",
    "df_ses = df_monthly.copy()\n",
    "\n",
    "\n",
    "ses = SimpleExpSmoothing(df_monthly['Ventas'])\n",
    "\n",
    "fit = ses.fit(optimized=True)\n",
    "\n",
    "df_ses['SES'] = fit.fittedvalues \n",
    "\n",
    "\n",
    "df_ses.head()"
   ]
  },
  {
   "cell_type": "code",
   "execution_count": null,
   "id": "c57ae164",
   "metadata": {},
   "outputs": [],
   "source": [
    "plt.figure(figsize=(12,6))\n",
    "plt.plot(df_ses[\"Fecha\"], df_ses[\"Ventas\"], marker=\"o\", label=\"Ventas reales\")\n",
    "plt.plot(df_ses[\"Fecha\"], df_ses[\"SES\"], linestyle=\"--\", label=\"Suavizado exponencial (SES)\")\n",
    "plt.legend()\n",
    "plt.title(\"Exponential smoothing\")\n",
    "plt.xlabel(\"Fecha\")\n",
    "plt.ylabel(\"Ventas\")\n",
    "plt.show()\n"
   ]
  },
  {
   "cell_type": "code",
   "execution_count": null,
   "id": "38f606a4",
   "metadata": {},
   "outputs": [],
   "source": [
    "# Metrics\n",
    "\n",
    "# Evaluation \n",
    "df_ses_eval = df_ses.copy()\n",
    "\n",
    "mae_ses = mean_absolute_error(df_ses_eval['Ventas'], df_ses_eval['SES'])\n",
    "\n",
    "rmse_ses = np.sqrt(mean_squared_error(df_ses_eval['Ventas'], df_ses_eval['SES']))\n",
    "                 \n",
    "mape_ses = np.mean(np.abs((df_ses_eval['Ventas'] - df_ses_eval['SES']) / df_ses_eval['Ventas'])) * 100\n",
    "\n",
    "print(f\"MAE: 3 months: {mae_ses:.2f}\")\n",
    "print(f\"RMSE: 3 months: {rmse_ses:.2f}\")\n",
    "print(f\"MAPE: 3 months: {mape_ses:.2f}\")"
   ]
  },
  {
   "cell_type": "markdown",
   "id": "baeaf1fe",
   "metadata": {},
   "source": [
    "#### Movile average and Exponential smoothing, final test"
   ]
  },
  {
   "cell_type": "markdown",
   "id": "428dc7bf",
   "metadata": {},
   "source": [
    "##### Movile average"
   ]
  },
  {
   "cell_type": "code",
   "execution_count": null,
   "id": "64913937",
   "metadata": {},
   "outputs": [],
   "source": [
    "from sklearn.model_selection import TimeSeriesSplit\n",
    "\n",
    "df_final_ma = df_monthly.copy()\n",
    "\n",
    "tscv = TimeSeriesSplit(n_splits=3) # three folds\n",
    "\n",
    "mae_ma3, rmse_ma3 = [], []\n",
    "mae_ma6, rmse_ma6 = [], []\n",
    "\n",
    "\n",
    "n_steps = 5 # number of values to forecast and evaluate\n",
    "\n",
    "for fold, (train_idx, test_idx) in enumerate(tscv.split(df_final_ma)):\n",
    "    train, test = df_final_ma.iloc[train_idx], df_final_ma.iloc[test_idx]\n",
    "\n",
    "    print(f\"\\nFold {fold+1}\")\n",
    "    print(f\"Train: {len(train)} registros, Test: {len(test)} registros\")\n",
    "\n",
    "    y_train = train[\"Ventas\"]\n",
    "    y_test = test[\"Ventas\"]\n",
    "    steps = min(n_steps, len(y_test)) # choose the left part of the test array if is smaller than n_steps\n",
    "\n",
    "\n",
    "\n",
    "\n",
    "    # --- Model 1: MA(3) iterative forecast  ---\n",
    "    history = list(y_train)\n",
    "    y_pred_ma3 = []\n",
    "\n",
    "    for i in range(steps): \n",
    "        pred = np.mean(history[-3 : ])\n",
    "        y_pred_ma3.append(pred)\n",
    "        history.append(pred)\n",
    "\n",
    "    mae_ma3.append(mean_absolute_error(y_test[:steps], y_pred_ma3))\n",
    "    rmse_ma3.append(np.sqrt(mean_squared_error(y_test[:steps], y_pred_ma3)))\n",
    "\n",
    "\n",
    "\n",
    "\n",
    "    # --- Model 2: MA(6) iterative forecast ---\n",
    "\n",
    "    history = list(y_train)\n",
    "    y_pred_ma6 = []\n",
    "    for _ in range(steps):\n",
    "        pred = np.mean(history[-6:])\n",
    "        y_pred_ma6.append(pred)\n",
    "        history.append(pred)\n",
    "    mae_ma6.append(mean_absolute_error(y_test[:steps], y_pred_ma6))\n",
    "    rmse_ma6.append(np.sqrt(mean_squared_error(y_test[:steps], y_pred_ma6)))\n",
    "\n",
    "\n",
    "    # Graphic\n",
    "    plt.figure(figsize=(10,4))\n",
    "    plt.plot(train[\"Fecha\"], y_train, label=\"Train\")\n",
    "    plt.plot(test[\"Fecha\"][:steps], y_test[:steps], label=\"Test\", marker=\"o\")\n",
    "    plt.plot(test[\"Fecha\"][:steps], y_pred_ma3, label=\"MA (3) forecast\", linestyle=\"--\")\n",
    "    plt.plot(test[\"Fecha\"][:steps], y_pred_ma6, label=\"MA (6) forecast\", linestyle=\"--\")\n",
    "    plt.legend()\n",
    "    plt.title(f\"Fold {fold+1} - Predicciones multi-step\")\n",
    "    plt.show()\n",
    "\n",
    "# --- Results\n",
    "print(\"\\nMetrics:\")\n",
    "print(f\"Movile average (3 meses): MAE={np.mean(mae_ma3):.2f}, RMSE={np.mean(rmse_ma3):.2f}\")\n",
    "print(f\"Movile average (6 meses): MAE={np.mean(mae_ma6):.2f}, RMSE={np.mean(rmse_ma6):.2f}\")\n",
    "\n"
   ]
  },
  {
   "cell_type": "markdown",
   "id": "26d4928d",
   "metadata": {},
   "source": [
    "##### Exponential smoothing"
   ]
  },
  {
   "cell_type": "code",
   "execution_count": null,
   "id": "d19443fe",
   "metadata": {},
   "outputs": [],
   "source": [
    "# Número de meses a predecir\n",
    "n_test = 5\n",
    "\n",
    "# Dividir la serie\n",
    "y_train = df_monthly[\"Ventas\"][:-n_test].values\n",
    "y_test = df_monthly[\"Ventas\"][-n_test:].values\n",
    "fecha_test = df_monthly[\"Fecha\"][-n_test:].values\n",
    "\n",
    "# --- Modelo SES ---\n",
    "ses_model = SimpleExpSmoothing(y_train).fit(optimized=True)\n",
    "y_pred_ses = ses_model.forecast(n_test)\n",
    "\n",
    "mae_ses = mean_absolute_error(y_test, y_pred_ses)\n",
    "rmse_ses = np.sqrt(mean_squared_error(y_test, y_pred_ses))\n",
    "\n",
    "\n",
    "fitted_values = ses_model.fittedvalues \n",
    "\n",
    "# --- Gráfica ---}\n",
    "\n",
    "plt.figure(figsize=(12,5))\n",
    "plt.plot(df_monthly[\"Fecha\"][:-n_test], y_train, label=\"Train\")\n",
    "plt.plot(fecha_test, y_test, label=\"Test\", marker=\"o\")\n",
    "plt.plot(fecha_test, y_pred_ses, label=\"SES forecast\", linestyle=\"--\")\n",
    "plt.plot(df_monthly[\"Fecha\"][:-n_test], fitted_values, linestyle=\"--\", label=\"Suavizado exponencial (SES)\")\n",
    "\n",
    "plt.legend()\n",
    "plt.title(f\"Forecast últimos {n_test} meses\")\n",
    "plt.xlabel(\"Fecha\")\n",
    "plt.ylabel(\"Ventas\")\n",
    "plt.show()\n",
    "\n",
    "# --- Resultados ---\n",
    "print(f\"SES: MAE={mae_ses:.2f}, RMSE={rmse_ses:.2f}\")\n",
    "print(f\"Alfa SES: {ses_model.params['smoothing_level']:.2f}\")\n",
    "\n",
    "\n",
    "\n",
    "\n"
   ]
  },
  {
   "cell_type": "markdown",
   "id": "ea72b96a",
   "metadata": {},
   "source": [
    "### Prediction of hypothetical next five months with the three methods"
   ]
  },
  {
   "cell_type": "code",
   "execution_count": null,
   "id": "f7ada61a",
   "metadata": {},
   "outputs": [],
   "source": [
    "\n",
    "n_steps = 5  # number of months to predict\n",
    "\n",
    "# complete series\n",
    "y = df_monthly[\"Ventas\"].values\n",
    "fechas = df_monthly[\"Fecha\"]\n",
    "\n",
    "\n",
    "last_date = fechas.iloc[-1] # last date of the original set \n",
    "\n",
    "future_dates = pd.date_range(start=last_date, periods=n_steps+1, freq=\"MS\")[1:]\n",
    "\n",
    "# ================================\n",
    "# Modelo 1: MA(3) \n",
    "# ================================\n",
    "history = list(y)\n",
    "y_pred_ma3 = []\n",
    "for _ in range(n_steps):\n",
    "    pred = np.mean(history[-3:])\n",
    "    y_pred_ma3.append(pred)\n",
    "    history.append(pred)\n",
    "\n",
    "# ================================\n",
    "# Modelo 2: MA(6) \n",
    "# ================================\n",
    "history = list(y)\n",
    "y_pred_ma6 = []\n",
    "for _ in range(n_steps):\n",
    "    pred = np.mean(history[-6:])\n",
    "    y_pred_ma6.append(pred)\n",
    "    history.append(pred)\n",
    "\n",
    "# ================================\n",
    "# Modelo 3: SES forecast\n",
    "# ================================\n",
    "ses_model = SimpleExpSmoothing(y).fit(optimized=True)\n",
    "y_pred_ses = ses_model.forecast(n_steps)\n",
    "\n",
    "# ================================\n",
    "# DataFrame with results\n",
    "# ================================\n",
    "forecast_df = pd.DataFrame({\n",
    "    \"Fecha\": future_dates,\n",
    "    \"MA(3)\": y_pred_ma3,\n",
    "    \"MA(6)\": y_pred_ma6,\n",
    "    \"SES\": y_pred_ses\n",
    "})\n",
    "\n",
    "forecast_df = forecast_df.round(0)\n",
    "\n",
    "print(forecast_df)\n",
    "\n",
    "# ================================\n",
    "# Graphics\n",
    "# ================================\n",
    "plt.figure(figsize=(12,6))\n",
    "plt.plot(fechas, y, label=\"Histórico\", marker=\"o\")\n",
    "\n",
    "plt.plot(future_dates, y_pred_ma3, label=\"MA(3) Forecast\", linestyle=\"--\", marker=\"o\")\n",
    "plt.plot(future_dates, y_pred_ma6, label=\"MA(6) Forecast\", linestyle=\"--\", marker=\"o\")\n",
    "plt.plot(future_dates, y_pred_ses, label=\"SES Forecast\", linestyle=\"-.\", marker=\"o\")\n",
    "\n",
    "plt.axvline(x=last_date, color=\"gray\", linestyle=\":\")  # línea para separar train vs forecast\n",
    "plt.legend()\n",
    "plt.title(\"Predicción de los próximos 5 meses con MA y SES\")\n",
    "plt.xlabel(\"Fecha\")\n",
    "plt.ylabel(\"Ventas\")\n",
    "plt.show()\n"
   ]
  },
  {
   "cell_type": "markdown",
   "id": "0e82c89f",
   "metadata": {},
   "source": [
    "## Part 2: a supervised approach with random forest"
   ]
  },
  {
   "cell_type": "markdown",
   "id": "eb48c2f2",
   "metadata": {},
   "source": [
    "### Model 1: forecasting *total* sales per month"
   ]
  },
  {
   "cell_type": "code",
   "execution_count": null,
   "id": "38712a6f",
   "metadata": {},
   "outputs": [],
   "source": [
    "# Crear lags\n",
    "def create_lags(df, n_lags=6):\n",
    "    data = df.copy()\n",
    "    for lag in range(1, n_lags+1):\n",
    "        data[f\"lag_{lag}\"] = data[\"Ventas\"].shift(lag)\n",
    "    return data\n",
    "\n",
    "# we use the dataframe grouped by month (and we lost the State column)\n",
    "\n",
    "df_lags = create_lags(df_monthly, n_lags=6).dropna().reset_index(drop=True)\n",
    "\n",
    "df_lags.head()"
   ]
  },
  {
   "cell_type": "code",
   "execution_count": null,
   "id": "d3c13cb5",
   "metadata": {},
   "outputs": [],
   "source": [
    "### Version 2 de RF; añadiendo columna de mes \n",
    "df_rf2 = df_lags.copy()\n",
    "df_rf2['month'] = df_rf2['Fecha'].dt.month \n",
    "df_rf2\n",
    "\n",
    "\n",
    "from sklearn.model_selection import train_test_split\n",
    "\n",
    "# Split train and test sets\n",
    "df_train_2, df_test_2 = train_test_split(df_rf2, train_size=0.75, test_size=0.25, shuffle=False)\n",
    "print(\"Train and Test size\", len(df_train_2), \"--\", len(df_test_2))\n",
    "\n",
    "\n",
    "\n",
    "X_train_2, y_train_2 = df_train_2.drop(columns=['Fecha', 'Ventas']), df_train_2['Ventas']\n",
    "X_test_2, y_test_2 = df_test_2.drop(columns=['Fecha', 'Ventas']), df_test_2['Ventas']\n",
    "\n",
    "##############################\n",
    "from sklearn.ensemble import RandomForestRegressor\n",
    "\n",
    "rf2 = RandomForestRegressor(n_estimators=200, random_state=42)\n",
    "rf2.fit(X_train_2, y_train_2)\n",
    "\n",
    "y_pred_2 = rf2.predict(X_test_2)\n",
    "\n",
    "\n",
    "mae_2 = mean_absolute_error(y_test_2, y_pred_2)\n",
    "rmse_2 = np.sqrt(mean_squared_error(y_test_2, y_pred_2))\n",
    "\n",
    "print(f\"Random Forest -> MAE: {mae_2:.2f}, RMSE: {rmse_2:.2f}\")\n",
    "\n",
    "\n",
    "plt.figure(figsize=(10,5))\n",
    "plt.plot(df_train_2[\"Fecha\"], y_train_2, label=\"Train\")\n",
    "plt.plot(df_test_2[\"Fecha\"], y_test_2, label=\"Test\", marker=\"o\")\n",
    "plt.plot(df_test_2[\"Fecha\"], y_pred_2, label=\"RF Forecast\", marker=\"x\", linestyle=\"--\")\n",
    "plt.legend()\n",
    "plt.title(\"Total sales with random forest\")\n",
    "plt.show()"
   ]
  },
  {
   "cell_type": "markdown",
   "id": "409d80d2",
   "metadata": {},
   "source": [
    "##### Explainability: \n",
    "- Permutation importance \n",
    "- Importance on prediction"
   ]
  },
  {
   "cell_type": "code",
   "execution_count": null,
   "id": "29ce8141",
   "metadata": {},
   "outputs": [],
   "source": [
    "from sklearn.inspection import permutation_importance\n",
    "\n",
    "\n",
    "result_2 = permutation_importance(rf2, X_test_2, y_test_2, n_repeats=10, random_state=42)\n",
    "\n",
    "\n",
    "perm_importance_2 = pd.DataFrame({\n",
    "    'Variable': X_test_2.columns,\n",
    "    'Importancia_media': result_2.importances_mean,\n",
    "    'Importancia_std': result_2.importances_std\n",
    "}).sort_values(by='Importancia_media', ascending=False)\n",
    "\n",
    "print(perm_importance_2)\n",
    "\n",
    "\n",
    "plt.figure(figsize=(8,5))\n",
    "plt.barh(perm_importance_2['Variable'], perm_importance_2['Importancia_media'], xerr=perm_importance_2['Importancia_std'], color='lightgreen')\n",
    "plt.gca().invert_yaxis()\n",
    "plt.title('Permutation importance (Random Forest)')\n",
    "plt.xlabel('Average loss in performance')\n",
    "plt.show()"
   ]
  },
  {
   "cell_type": "code",
   "execution_count": null,
   "id": "30d9e0bc",
   "metadata": {},
   "outputs": [],
   "source": [
    "# importance in prediction\n",
    "\n",
    "importancias2 = pd.DataFrame({\n",
    "    'Variable': X_train_2.columns,\n",
    "    'Importancia': rf2.feature_importances_\n",
    "}).sort_values(by='Importancia', ascending=False)\n",
    "\n",
    "\n",
    "print(importancias2)\n",
    "\n",
    "plt.figure(figsize=(8,5))\n",
    "plt.barh(importancias2['Variable'], importancias2['Importancia'], color='skyblue')\n",
    "plt.gca().invert_yaxis() \n",
    "plt.title('Feature importance')\n",
    "plt.xlabel('Importance')\n",
    "plt.show()"
   ]
  },
  {
   "cell_type": "markdown",
   "id": "15886592",
   "metadata": {},
   "source": [
    "### Model 2: forecasting monthly sales *per state*"
   ]
  },
  {
   "cell_type": "code",
   "execution_count": null,
   "id": "4f50b659",
   "metadata": {},
   "outputs": [],
   "source": [
    "# here we use the original data set (without grouping)\n",
    "df_rf4 = df.copy()\n",
    "\n",
    "# introduce lags \n",
    "df_rf4['Ventas_lag1'] = df_rf4['Ventas'].shift(1)\n",
    "df_rf4['Ventas_lag2'] = df_rf4['Ventas'].shift(2)\n",
    "df_rf4['Ventas_lag3'] = df_rf4['Ventas'].shift(3)\n",
    "\n",
    "# remove na's introduced by shift \n",
    "df_rf4 = df_rf4.dropna()\n",
    "\n",
    "\n",
    "from sklearn.preprocessing import OrdinalEncoder\n",
    "\n",
    "encoder = OrdinalEncoder()\n",
    "df_rf4[\"Estado_encoded\"] = encoder.fit_transform(df_rf4[[\"Estado\"]])\n",
    "df_rf4.drop(columns=['Estado'], inplace = True)\n",
    "\n",
    "\n",
    "from sklearn.model_selection import train_test_split\n",
    "\n",
    "# Split train and test sets\n",
    "df_train_4, df_test_4 = train_test_split(df_rf4, train_size=0.75, test_size=0.25, shuffle=False)\n",
    "print(\"Train and Test size\", len(df_train_4), \"--\", len(df_test_4))\n",
    "\n",
    "\n",
    "\n",
    "X_train_4, y_train_4 = df_train_4.drop(columns=['Fecha', 'Ventas']), df_train_4['Ventas']\n",
    "X_test_4, y_test_4 = df_test_4.drop(columns=['Fecha', 'Ventas']), df_test_4['Ventas']\n",
    "\n",
    "##############################\n",
    "from sklearn.ensemble import RandomForestRegressor\n",
    "\n",
    "rf4 = RandomForestRegressor(n_estimators=200, random_state=42)\n",
    "rf4.fit(X_train_4, y_train_4)\n",
    "\n",
    "y_pred_4 = rf4.predict(X_test_4)\n",
    "\n",
    "\n",
    "mae_4 = mean_absolute_error(y_test_4, y_pred_4)\n",
    "rmse_4 = np.sqrt(mean_squared_error(y_test_4, y_pred_4))\n",
    "\n",
    "print(f\"Random Forest -> MAE: {mae_4:.2f}, RMSE: {rmse_4:.2f}\")\n",
    "\n",
    "plt.figure(figsize=(10,5))\n",
    "plt.plot(df_train_4[\"Fecha\"], y_train_4, label=\"Train\")\n",
    "plt.plot(df_test_4[\"Fecha\"], y_test_4, label=\"Test\", marker=\"o\")\n",
    "plt.plot(df_test_4[\"Fecha\"], y_pred_4, label=\"RF Forecast\", marker=\"x\", linestyle=\"--\")\n",
    "plt.legend()\n",
    "plt.title(\"Random Forest con rezagos (lags)\")\n",
    "plt.show()\n"
   ]
  },
  {
   "cell_type": "markdown",
   "id": "8348bf98",
   "metadata": {},
   "source": [
    "##### Explainability: \n",
    "- Permutation importance \n",
    "- Importance on prediction"
   ]
  },
  {
   "cell_type": "code",
   "execution_count": null,
   "id": "712bd313",
   "metadata": {},
   "outputs": [],
   "source": [
    "from sklearn.inspection import permutation_importance\n",
    "\n",
    "\n",
    "result_4 = permutation_importance(rf4, X_test_4, y_test_4, n_repeats=10, random_state=42)\n",
    "\n",
    "\n",
    "perm_importance_4 = pd.DataFrame({\n",
    "    'Variable': X_test_4.columns,\n",
    "    'Importancia_media': result_4.importances_mean,\n",
    "    'Importancia_std': result_4.importances_std\n",
    "}).sort_values(by='Importancia_media', ascending=False)\n",
    "\n",
    "print(perm_importance_4)\n",
    "\n",
    "\n",
    "plt.figure(figsize=(8,5))\n",
    "plt.barh(perm_importance_4['Variable'], perm_importance_4['Importancia_media'], xerr=perm_importance_4['Importancia_std'], color='lightgreen')\n",
    "plt.gca().invert_yaxis()\n",
    "plt.title('Importancia de Permutación (Random Forest)')\n",
    "plt.xlabel('Disminución media del desempeño (MAE o RMSE)')\n",
    "plt.show()"
   ]
  },
  {
   "cell_type": "code",
   "execution_count": null,
   "id": "d8c3a8c5",
   "metadata": {},
   "outputs": [],
   "source": [
    "# Obtener importancias\n",
    "importancias4 = pd.DataFrame({\n",
    "    'Variable': X_train_4.columns,\n",
    "    'Importancia': rf4.feature_importances_\n",
    "}).sort_values(by='Importancia', ascending=False)\n",
    "\n",
    "# Mostrar tabla ordenada\n",
    "print(importancias4)\n",
    "\n",
    "# Visualización\n",
    "plt.figure(figsize=(8,5))\n",
    "plt.barh(importancias4['Variable'], importancias4['Importancia'], color='skyblue')\n",
    "plt.gca().invert_yaxis()  # la más importante arriba\n",
    "plt.title('Importancia de las variables en el modelo Random Forest')\n",
    "plt.xlabel('Importancia')\n",
    "plt.show()"
   ]
  },
  {
   "cell_type": "markdown",
   "id": "8bc5a042",
   "metadata": {},
   "source": [
    "### Evaluating results and communicating your recommendations"
   ]
  },
  {
   "cell_type": "markdown",
   "id": "5b778902",
   "metadata": {},
   "source": [
    "Model of choice: random forest"
   ]
  },
  {
   "cell_type": "code",
   "execution_count": null,
   "id": "94890dc7",
   "metadata": {},
   "outputs": [],
   "source": [
    "print(f\"Random Forest (general) -> MAE: {mae_2:.2f}, RMSE: {rmse_2:.2f}\") # lags + month \n",
    "print(f\"Random Forest (per state) 4-> MAE: {mae_4:.2f}, RMSE: {rmse_4:.2f}\") # lags + estado, mes y año \n",
    "\n",
    "# final forecasting for ficticious next five months with all methods (3 ingenuous, 2 rf) \n"
   ]
  },
  {
   "cell_type": "code",
   "execution_count": null,
   "id": "1e6c7686",
   "metadata": {},
   "outputs": [],
   "source": [
    "import warnings\n",
    "warnings.filterwarnings(\"ignore\")\n",
    "\n",
    "\n",
    "\n",
    "n_future = 5\n",
    "\n",
    "# last row as starting point \n",
    "last_row = df_rf2.iloc[-1].copy()\n",
    "\n",
    "\n",
    "future_predictions = []\n",
    "future_dates = []\n",
    "\n",
    "# --- five iterations to predict\n",
    "for i in range(n_future):\n",
    "    # input row \n",
    "    X_future = last_row.drop(labels=['Fecha', 'Ventas'])\n",
    "    \n",
    "    # prediction\n",
    "    y_pred = rf2.predict(X_future.values.reshape(1, -1))[0]\n",
    "    future_predictions.append(y_pred)\n",
    "    \n",
    "    # Create new date for new register \n",
    "    new_date = last_row['Fecha'] + pd.DateOffset(months=1)\n",
    "    future_dates.append(new_date)\n",
    "    \n",
    "    # create lags for new value\n",
    "    for lag in range(6, 0, -1):\n",
    "        if lag == 1:\n",
    "            last_row[f'lag_{lag}'] = y_pred\n",
    "        else:\n",
    "            last_row[f'lag_{lag}'] = last_row[f'lag_{lag-1}']\n",
    "    \n",
    "    # Actualizar mes y fecha\n",
    "    last_row['Fecha'] = new_date\n",
    "    last_row['month'] = new_date.month\n",
    "\n",
    "# dataframe with results\n",
    "df_future = pd.DataFrame({\n",
    "    'Fecha': future_dates,\n",
    "    'Pred_RF': future_predictions\n",
    "})\n",
    "\n",
    "print(\"Next 5 months forecasting:\\n\")\n",
    "print(df_future.round())\n",
    "\n",
    "# --- Paso 6. Visualización\n",
    "plt.figure(figsize=(10,5))\n",
    "plt.plot(df_rf2['Fecha'], df_rf2['Ventas'], label='Original training data', color='steelblue')\n",
    "plt.plot(df_future['Fecha'], df_future['Pred_RF'], label='RF forecasting (5 months)', color='darkorange', marker='o', linestyle='--')\n",
    "plt.title('Forecasting next five months')\n",
    "plt.xlabel('Date')\n",
    "plt.ylabel('Sales')\n",
    "plt.legend()\n",
    "plt.grid(alpha=0.3)\n",
    "plt.show()\n"
   ]
  },
  {
   "cell_type": "markdown",
   "id": "a9916112",
   "metadata": {},
   "source": [
    "**Final recomendations:** \n",
    "\n",
    "- The dataset lacks seasonality and significative self correlation. To forecast, probably the best option is to translate this task into a supervised learning approach. \n",
    "\n",
    "- For prediction in a supervised manner, two approachs can be taken; a general focus with no information about the states (and using only the lags and month as predictors) or a more detailed focus allowing to predict the sales for each state. In this case, the state variable is much more important than the month variable. \n",
    "\n",
    "- The variables provided (date and state) explain only a fragment of the variable sales. For a more precise and useful modeling, more information about the context of the dataset is required (for example, to what industry belong the data). \n"
   ]
  }
 ],
 "metadata": {
  "kernelspec": {
   "display_name": "venv",
   "language": "python",
   "name": "python3"
  },
  "language_info": {
   "codemirror_mode": {
    "name": "ipython",
    "version": 3
   },
   "file_extension": ".py",
   "mimetype": "text/x-python",
   "name": "python",
   "nbconvert_exporter": "python",
   "pygments_lexer": "ipython3",
   "version": "3.13.5"
  }
 },
 "nbformat": 4,
 "nbformat_minor": 5
}
